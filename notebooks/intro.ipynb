{
 "cells": [
  {
   "cell_type": "markdown",
   "id": "d6de91b9-5e7a-4bed-a67e-055f33b57df5",
   "metadata": {},
   "source": [
    "# Self-lensing BH-star binaries in TESS\n",
    "#### 2022 Pre-MAP Project"
   ]
  },
  {
   "cell_type": "markdown",
   "id": "ad2bcf17-ee7a-49d9-9c2e-bf50fe7cbd73",
   "metadata": {},
   "source": [
    "## Imports and settings"
   ]
  },
  {
   "cell_type": "code",
   "execution_count": 11,
   "id": "63a88dcf-09da-4d79-9045-4be6a74c5c51",
   "metadata": {},
   "outputs": [],
   "source": [
    "# numpy is useful for all sorts of science calculations\n",
    "import numpy as np\n",
    "\n",
    "# astropy units and constants to make sure everything has the right units\n",
    "import astropy.units as u\n",
    "import astropy.constants as const\n",
    "\n",
    "# matplotlib for plotting results\n",
    "import matplotlib.pyplot as plt\n",
    "\n",
    "# import custom modelling code\n",
    "import sys\n",
    "sys.path.append(\"../models\")\n",
    "import flux"
   ]
  },
  {
   "cell_type": "code",
   "execution_count": 12,
   "id": "ae9a36af-3b09-4ac2-af62-e9293daa6d1b",
   "metadata": {},
   "outputs": [],
   "source": [
    "%config InlineBackend.figure_format = 'retina'\n",
    "\n",
    "plt.rc('font', family='serif')\n",
    "plt.rcParams['text.usetex'] = False\n",
    "fs = 24\n",
    "\n",
    "# update various fontsizes to match\n",
    "params = {'figure.figsize': (12, 8),\n",
    "          'legend.fontsize': fs,\n",
    "          'axes.labelsize': fs,\n",
    "          'xtick.labelsize': 0.6 * fs,\n",
    "          'ytick.labelsize': 0.6 * fs,\n",
    "          'axes.linewidth': 1.1,\n",
    "          'xtick.major.size': 7,\n",
    "          'xtick.minor.size': 4,\n",
    "          'ytick.major.size': 7,\n",
    "          'ytick.minor.size': 4}\n",
    "plt.rcParams.update(params)"
   ]
  },
  {
   "cell_type": "markdown",
   "id": "3aff157f-ea1e-4a5b-87d9-61e3fc511132",
   "metadata": {},
   "source": [
    "## The rest (TODO)"
   ]
  }
 ],
 "metadata": {
  "kernelspec": {
   "display_name": "Python 3 (ipykernel)",
   "language": "python",
   "name": "python3"
  },
  "language_info": {
   "codemirror_mode": {
    "name": "ipython",
    "version": 3
   },
   "file_extension": ".py",
   "mimetype": "text/x-python",
   "name": "python",
   "nbconvert_exporter": "python",
   "pygments_lexer": "ipython3",
   "version": "3.9.12"
  }
 },
 "nbformat": 4,
 "nbformat_minor": 5
}
